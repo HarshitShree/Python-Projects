{
 "cells": [
  {
   "cell_type": "code",
   "execution_count": null,
   "id": "eb671a31",
   "metadata": {
    "scrolled": false
   },
   "outputs": [],
   "source": [
    "#imports\n",
    "from turtle import Screen,Turtle\n",
    "from paddle import Paddle\n",
    "from ball import Ball\n",
    "from padscore import Score\n",
    "import time\n",
    "\n",
    "#Screen Setup\n",
    "screen=Screen()\n",
    "screen.title(\"Welcome to the game of Pong\")\n",
    "screen.bgcolor(\"black\")\n",
    "screen.screensize(800,600)\n",
    "screen.listen()\n",
    "screen.tracer(0)\n",
    "\n",
    "#Paddle Setup\n",
    "#turtle creation\n",
    "rpad=Paddle((350,0))\n",
    "lpad=Paddle((-350,0))\n",
    "ball=Ball()\n",
    "ball.speed(\"fastest\")\n",
    "#Score\n",
    "score=Score()\n",
    "\n",
    "#Movement\n",
    "screen.onkey(key=\"w\",fun=rpad.up)\n",
    "screen.onkey(key=\"s\", fun=rpad.down)\n",
    "screen.onkey(key=\"Up\",fun=lpad.up)\n",
    "screen.onkey(key=\"Down\", fun=lpad.down)\n",
    "\n",
    "#Game\n",
    "game=True\n",
    "while game:\n",
    "    time.sleep(0.07)\n",
    "    screen.update()\n",
    "    ball.move()\n",
    "    \n",
    "    #collision with wall\n",
    "    if ball.ycor()>=290 or ball.ycor()<=-290:\n",
    "        ball.coll()\n",
    "        \n",
    "    #collision with paddles\n",
    "    if ball.xcor()>=330 or ball.xcor()<=-330:\n",
    "        if ball.distance(rpad.xcor(),rpad.ycor())<=38 or ball.distance(lpad.xcor(),lpad.ycor())<=38:\n",
    "            ball.padcol()\n",
    "            \n",
    "    #Score\n",
    "    if ball.xcor()>=380:\n",
    "        score.ls()\n",
    "        ball.goto(0,0)\n",
    "    if ball.xcor()<=-380:\n",
    "        score.rs()\n",
    "        ball.goto(0,0)\n",
    "    \n",
    "        \n",
    "    \n",
    "\n",
    "\n",
    "\n",
    "screen.exitonclick()"
   ]
  },
  {
   "cell_type": "code",
   "execution_count": null,
   "id": "ff27a294",
   "metadata": {},
   "outputs": [],
   "source": []
  },
  {
   "cell_type": "code",
   "execution_count": null,
   "id": "6727db76",
   "metadata": {},
   "outputs": [],
   "source": []
  }
 ],
 "metadata": {
  "kernelspec": {
   "display_name": "Python 3 (ipykernel)",
   "language": "python",
   "name": "python3"
  },
  "language_info": {
   "codemirror_mode": {
    "name": "ipython",
    "version": 3
   },
   "file_extension": ".py",
   "mimetype": "text/x-python",
   "name": "python",
   "nbconvert_exporter": "python",
   "pygments_lexer": "ipython3",
   "version": "3.9.13"
  }
 },
 "nbformat": 4,
 "nbformat_minor": 5
}
